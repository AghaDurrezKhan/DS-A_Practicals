{
  "nbformat": 4,
  "nbformat_minor": 0,
  "metadata": {
    "colab": {
      "provenance": [],
      "authorship_tag": "ABX9TyOmpST7I4KrqKiPv1XKeO+v"
    },
    "kernelspec": {
      "name": "python3",
      "display_name": "Python 3"
    },
    "language_info": {
      "name": "python"
    }
  },
  "cells": [
    {
      "cell_type": "code",
      "execution_count": null,
      "metadata": {
        "colab": {
          "base_uri": "https://localhost:8080/"
        },
        "id": "AKb4_cXhpPHM",
        "outputId": "29519151-4b2c-404b-d0f7-2ed947ea7c67"
      },
      "outputs": [
        {
          "output_type": "stream",
          "name": "stdout",
          "text": [
            "Test 1 - Expected result: 10, Actual result: 10.0\n",
            "Test 2 - Expected result: 7123.6902801, Actual result: 7123.690280065897\n"
          ]
        }
      ],
      "source": [
        "#Task 1\n",
        "\n",
        "def population_density(population, land_area):\n",
        "    if land_area <= 0:\n",
        "        raise ValueError(\"Land area must be greater than 0\")\n",
        "    density = population / land_area\n",
        "    return density\n",
        "\n",
        "test1 = population_density(10, 1)\n",
        "expected_result1 = 10\n",
        "print(\"Test 1 - Expected result: {}, Actual result: {}\".format(expected_result1, test1))\n",
        "\n",
        "test2 = population_density(864816, 121.4)\n",
        "expected_result2 = 7123.6902801\n",
        "print(\"Test 2 - Expected result: {}, Actual result: {}\".format(expected_result2, test2))\n"
      ]
    },
    {
      "cell_type": "code",
      "source": [
        "#Task 2\n",
        "\n",
        "def readable_timedelta(days):\n",
        "    weeks = days // 7\n",
        "    remaining_days = days % 7\n",
        "    return \"{} week(s) and {} day(s)\".format(weeks, remaining_days)\n",
        "\n",
        "print(readable_timedelta(10))\n"
      ],
      "metadata": {
        "colab": {
          "base_uri": "https://localhost:8080/"
        },
        "id": "nroX4OxksI6Q",
        "outputId": "c08a7a58-9cf1-46b9-abdb-d8dc3fe89234"
      },
      "execution_count": null,
      "outputs": [
        {
          "output_type": "stream",
          "name": "stdout",
          "text": [
            "1 week(s) and 3 day(s)\n"
          ]
        }
      ]
    },
    {
      "cell_type": "code",
      "source": [
        "#Task 3\n",
        "\n",
        "numbers = [[34, 63, 88, 71, 29], [90, 78, 51, 27, 45], [63, 37, 85, 46, 22], [51, 22, 34, 11, 18]]\n",
        "\n",
        "averages = list(map(lambda num_list: sum(num_list) / len(num_list), numbers))\n",
        "print(averages)\n"
      ],
      "metadata": {
        "colab": {
          "base_uri": "https://localhost:8080/"
        },
        "id": "Fb1c-18QsPQU",
        "outputId": "31630f2f-6c93-4580-ea0a-27f755b772af"
      },
      "execution_count": null,
      "outputs": [
        {
          "output_type": "stream",
          "name": "stdout",
          "text": [
            "[57.0, 58.2, 50.6, 27.2]\n"
          ]
        }
      ]
    },
    {
      "cell_type": "code",
      "source": [
        "#Task 4\n",
        "\n",
        "cities = [\"New York City\", \"Los Angeles\", \"Chicago\", \"Mountain View\", \"Denver\", \"Boston\"]\n",
        "\n",
        "short_cities = list(filter(lambda name: len(name) < 10, cities))\n",
        "print(short_cities)\n"
      ],
      "metadata": {
        "colab": {
          "base_uri": "https://localhost:8080/"
        },
        "id": "7-B2N3LksbuQ",
        "outputId": "959b70cf-ec44-479d-99d1-a251a2555b56"
      },
      "execution_count": null,
      "outputs": [
        {
          "output_type": "stream",
          "name": "stdout",
          "text": [
            "['Chicago', 'Denver', 'Boston']\n"
          ]
        }
      ]
    },
    {
      "cell_type": "code",
      "source": [
        "#Task 5\n",
        "\n",
        "names_input = input(\"Enter a list of student names separated by commas: \")\n",
        "names = names_input.split(',')\n",
        "\n",
        "assignments_input = input(\"Enter a list of the number of missing assignments separated by commas: \")\n",
        "assignments = list(map(float, assignments_input.split(',')))\n",
        "\n",
        "grades_input = input(\"Enter a list of grades separated by commas: \")\n",
        "grades = list(map(float, grades_input.split(',')))\n",
        "\n",
        "message_template = \"Hi {},\\n\\nThis is a reminder that you have {} assignments left to submit before you can graduate. \\nYour current grade is {} and can increase to {} if you submit all assignments before the due date.\\n\\n\"\n",
        "\n",
        "for name, missing_assignments, grade in zip(names, assignments, grades):\n",
        "    potential_grade = grade + 2 * missing_assignments\n",
        "    print(message_template.format(name, missing_assignments, grade, potential_grade))\n"
      ],
      "metadata": {
        "colab": {
          "base_uri": "https://localhost:8080/"
        },
        "id": "2mgK8NUUtfiA",
        "outputId": "48c0706e-5140-422e-ac0f-b4c064c5ccbc"
      },
      "execution_count": null,
      "outputs": [
        {
          "output_type": "stream",
          "name": "stdout",
          "text": [
            "Enter a list of student names separated by commas: Durrez,Ghansham,Shahzad\n",
            "Enter a list of the number of missing assignments separated by commas: 1,2,3\n",
            "Enter a list of grades separated by commas: 90,80,70\n",
            "Hi Durrez,\n",
            "\n",
            "This is a reminder that you have 1.0 assignments left to submit before you can graduate. \n",
            "Your current grade is 90.0 and can increase to 92.0 if you submit all assignments before the due date.\n",
            "\n",
            "\n",
            "Hi Ghansham,\n",
            "\n",
            "This is a reminder that you have 2.0 assignments left to submit before you can graduate. \n",
            "Your current grade is 80.0 and can increase to 84.0 if you submit all assignments before the due date.\n",
            "\n",
            "\n",
            "Hi Shahzad,\n",
            "\n",
            "This is a reminder that you have 3.0 assignments left to submit before you can graduate. \n",
            "Your current grade is 70.0 and can increase to 76.0 if you submit all assignments before the due date.\n",
            "\n",
            "\n"
          ]
        }
      ]
    },
    {
      "cell_type": "code",
      "source": [
        "#Task 6\n",
        "\n",
        "with open(\"/content/sample_data/camelot.txt\") as song:\n",
        "  print(song.read(2))\n",
        "  print(song.read(8))\n",
        "  print(song.read())"
      ],
      "metadata": {
        "colab": {
          "base_uri": "https://localhost:8080/"
        },
        "id": "oO_IQOCC-i54",
        "outputId": "5b53204d-cfb6-4063-c25d-1b0e7cc38d13"
      },
      "execution_count": 3,
      "outputs": [
        {
          "output_type": "stream",
          "name": "stdout",
          "text": [
            "We\n",
            "'re the \n",
            "knights of the round table\n",
            "We dance whenever we're able\n"
          ]
        }
      ]
    },
    {
      "cell_type": "code",
      "source": [
        "#Task 7\n",
        "\n",
        "def create_cast_list(filename):\n",
        "    cast_list = []\n",
        "    with open(filename) as f:\n",
        "        for line in f:\n",
        "            cast_list.extend(line.strip().split(','))\n",
        "    return cast_list\n",
        "\n",
        "cast_list = create_cast_list('/content/sample_data/flying_circus_cast.txt')\n",
        "\n",
        "for actor in cast_list:\n",
        "    print(actor)"
      ],
      "metadata": {
        "id": "06xsIb4R_fvK",
        "colab": {
          "base_uri": "https://localhost:8080/"
        },
        "outputId": "a5b3bad8-0a45-4462-c733-2403d27bc61e"
      },
      "execution_count": 8,
      "outputs": [
        {
          "output_type": "stream",
          "name": "stdout",
          "text": [
            "Graham Chapman\n",
            "  Various / ... (46 episodes\n",
            " 1969-1974)\n",
            "Eric Idle\n",
            "  Various / ... (46 episodes\n",
            " 1969-1974)\n",
            "Terry Jones\n",
            "  Various / ... (46 episodes\n",
            " 1969-1974)\n",
            "Michael Palin\n",
            "  It's Man / ... (46 episodes\n",
            " 1969-1974)\n",
            "Terry Gilliam\n",
            "  Various / ... (46 episodes\n",
            " 1969-1974)\n",
            "John Cleese\n",
            "  Announcer / ... (40 episodes\n",
            " 1969-1973)\n",
            "Carol Cleveland\n",
            "  Various / ... (34 episodes\n",
            " 1969-1974)\n",
            "Ian Davidson\n",
            "  Algy Braithwaite / ... (8 episodes\n",
            " 1969-1970)\n",
            "John Hughman\n",
            "  Alfred Lord Tennyson / ... (8 episodes\n",
            " 1970-1974)\n",
            "The Fred Tomlinson Singers\n",
            "  Amantillado Chorus / ... (7 episodes\n",
            " 1969-1973)\n",
            "Connie Booth\n",
            "  Animated Mother / ... (6 episodes\n",
            " 1969-1974)\n",
            "Bob Raymond\n",
            "  'Dad' / ... (5 episodes\n",
            " 1974)\n",
            "Lyn Ashley\n",
            "  Algon Girl / ... (5 episodes\n",
            " 1970-1972)\n",
            "Rita Davies\n",
            "  Argument Secretary / ... (4 episodes\n",
            " 1969-1972)\n",
            "Stanley Mason\n",
            "  Clapper Man / ... (4 episodes\n",
            " 1970-1971)\n",
            "David Ballantyne\n",
            "  Ivan the Terrible / ... (3 episodes\n",
            " 1970-1971)\n",
            "Donna Reading\n",
            "  Girl in Bikini with Its Man / ... (3 episodes\n",
            " 1969)\n",
            "Peter Brett\n",
            "  Door-to-Door Martial Arts Salesman (2 episodes\n",
            " 1974)\n",
            "Maureen Flanagan\n",
            "  Anona Winn / ... (2 episodes\n",
            " 1969-1970)\n",
            "Katya Wyeth\n",
            "  Elsie / ... (2 episodes\n",
            " 1969)\n",
            "Frank Lester\n",
            "  The Late Professor Thynne (2 episodes\n",
            " 1972-1974)\n",
            "Neil Innes\n",
            "  Hesitant guitarist / ... (2 episodes\n",
            " 1974)\n",
            "Dick Vosburgh\n",
            "  Van der Berg (1 episode\n",
            " 1969)\n",
            "Sandra Richards\n",
            "  'Semprini' Girl / ... (1 episode\n",
            " 1970)\n",
            "Julia Breck\n",
            "  Puss In Boots / ... (1 episode\n",
            " 1972)\n",
            "Nicki Howorth\n",
            "  Miss Bladder (1 episode\n",
            " 1972)\n",
            "Jimmy Hill\n",
            "  Himself (1 episode\n",
            " 1974)\n",
            "Barry Cryer\n",
            "  Herman Rodrigues (1 episode\n",
            " 1969)\n",
            "Jeannette Wild\n",
            "  Second Secretary (1 episode\n",
            " 1970)\n",
            "Marjorie Wilde\n",
            "  Dear Old Lady (1 episode\n",
            " 1970)\n",
            "Marie Anderson\n",
            "  Girl interviewing the announcer (1 episode\n",
            " 1972)\n",
            "Caron Gardner\n",
            "  Mary (1 episode\n",
            " 1973)\n",
            "Nosher Powell\n",
            "  Jack Bodell (1 episode\n",
            " 1973)\n",
            "Carolae Donoghue\n",
            "  Vera's Husband's Mistress (1 episode\n",
            " 1969)\n",
            "Vincent Wong\n",
            "  Mr. Kamikaze (1 episode\n",
            " 1970)\n",
            "Helena Clayton\n",
            "  Various Roles (1 episode\n",
            " 1971)\n",
            "Nigel Jones\n",
            "  Various (1 episode\n",
            " 1972)\n",
            "Roy Gunson\n",
            " (1 episode\n",
            " 1970)\n",
            "Daphne Davey\n",
            "  Various Roles (1 episode\n",
            " 1971)\n",
            "Stenson Falke\n",
            " (1 episode\n",
            " 1974)\n",
            "Alexander Curry\n",
            "  Various (1 episode\n",
            " 1970)\n",
            "Frank Williams\n",
            "  Clerk of the Court (1 episode\n",
            " 1972)\n",
            "Ralph Wood\n",
            " (1 episode\n",
            " 1970)\n",
            "Rosalind Bailey\n",
            "  Elizabethan Girl (1 episode\n",
            " 1972)\n",
            "Marion Mould\n",
            " (1 episode\n",
            " 1974)\n",
            "Sheila Sands\n",
            "  Stripper / ... (uncredited) (2 episodes\n",
            " 1969)\n",
            "Richard Baker\n",
            "  Himself - BBC News Anchor (uncredited) (3 episodes\n",
            " 1972-1973)\n",
            "Douglas Adams\n",
            "  Dr. Emile Koning - Surgeon / ... (uncredited) (2 episodes\n",
            " 1974)\n",
            "Ewa Aulin\n",
            "  Harrassed Woman (uncredited) (1 episode\n",
            " 1969)\n",
            "Reginald Bosanquet\n",
            "  Himself (uncredited) (1 episode\n",
            " 1970)\n",
            "Barbara Lindley\n",
            "  Bride (uncredited) (1 episode\n",
            " 1970)\n",
            "Roy Brent\n",
            "  Armoured Knight (uncredited) (1 episode\n",
            " 1972)\n",
            "Jonas Card\n",
            "  Armoured Knight (uncredited) (1 episode\n",
            " 1972)\n",
            "Tony Christopher\n",
            "  Armoured Knight (uncredited) (1 episode\n",
            " 1972)\n",
            "Beulah Hughes\n",
            " (uncredited) (1 episode\n",
            " 1972)\n",
            "Peter Kodak\n",
            "  Armoured Knight (uncredited) (1 episode\n",
            " 1972)\n",
            "Lulu\n",
            "  Herself (uncredited) (1 episode\n",
            " 1972)\n",
            "Jay Neill\n",
            "  Armoured Knight (uncredited) (1 episode\n",
            " 1972)\n",
            "Graham Skidmore\n",
            "  Armoured Knight (uncredited) (1 episode\n",
            " 1972)\n",
            "Ringo Starr\n",
            "  Himself (uncredited) (1 episode\n",
            " 1972)\n",
            "Fred Tomlinson\n",
            "  Superintendent McGough (uncredited) (1 episode\n",
            " 1972)\n",
            "David Hamilton\n",
            "  Himself - Thames TV Announcer (uncredited) (1 episode\n",
            " 1973)\n",
            "Suzy Mandel\n",
            "  German Girl (uncredited) (1 episode\n",
            " 1974)\n",
            "Peter Woods\n",
            "  BBC Presenter (uncredited) (1 episode\n",
            " 1974)\n"
          ]
        }
      ]
    }
  ]
}
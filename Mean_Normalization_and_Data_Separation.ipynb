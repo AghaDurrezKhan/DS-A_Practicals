{
  "cells": [
    {
      "cell_type": "markdown",
      "metadata": {
        "id": "cOPdVebyyhek"
      },
      "source": [
        "# Mean Normalization\n",
        "\n",
        "In machine learning we use large amounts of data to train our models. Some machine learning algorithms may require that the data is *normalized* in order to work correctly. The idea of normalization, also known as *feature scaling*, is to ensure that all the data is on a similar scale, *i.e.* that all the data takes on a similar range of values. For example, we might have a dataset that has values between 0 and 5,000. By normalizing the data we can make the range of values be between 0 and 1.\n",
        "\n",
        "In this lab, you will be performing a different kind of feature scaling known as *mean normalization*. Mean normalization will scale the data, but instead of making the values be between 0 and 1, it will distribute the values evenly in some small interval around zero. For example, if we have a dataset that has values between 0 and 5,000, after mean normalization the range of values will be distributed in some small range around 0, for example between -3 to 3. Because the range of values are distributed evenly around zero, this guarantees that the average (mean) of all elements will be zero. Therefore, when you perform *mean normalization* your data will not only be scaled but it will also have an average of zero.\n",
        "\n",
        "# To Do:\n",
        "\n",
        "You will start by importing NumPy and creating a rank 2 ndarray of random integers between 0 and 5,000 (inclusive) with 1000 rows and 20 columns. This array will simulate a dataset with a wide range of values. Fill in the code below"
      ]
    },
    {
      "cell_type": "code",
      "execution_count": 3,
      "metadata": {
        "colab": {
          "base_uri": "https://localhost:8080/"
        },
        "id": "McbLkRauyhem",
        "outputId": "4dadef57-e4c7-476e-8d69-6e3aeb901c38"
      },
      "outputs": [
        {
          "output_type": "stream",
          "name": "stdout",
          "text": [
            "(1000, 20)\n"
          ]
        }
      ],
      "source": [
        "import numpy as np\n",
        "\n",
        "X = np.random.randint(0, 5001, size=(1000, 20))\n",
        "\n",
        "print(X.shape)"
      ]
    },
    {
      "cell_type": "markdown",
      "metadata": {
        "id": "R-x4MdROyhen"
      },
      "source": [
        "Now that you created the array we will mean normalize it. We will perform mean normalization using the following equation:\n",
        "\n",
        "$\\mbox{Norm_Col}_i = \\frac{\\mbox{Col}_i - \\mu_i}{\\sigma_i}$\n",
        "\n",
        "where $\\mbox{Col}_i$ is the $i$th column of $X$, $\\mu_i$ is average of the values in the $i$th column of $X$, and $\\sigma_i$ is the standard deviation of the values in the $i$th column of $X$. In other words, mean normalization is performed by subtracting from each column of $X$ the average of its values, and then by dividing by the standard deviation of its values. In the space below, you will first calculate the average and standard deviation of each column of $X$."
      ]
    },
    {
      "cell_type": "code",
      "execution_count": 4,
      "metadata": {
        "colab": {
          "base_uri": "https://localhost:8080/"
        },
        "id": "r3at6DOayhen",
        "outputId": "0474f1fa-272e-445c-b160-640b6b8e7d95"
      },
      "outputs": [
        {
          "output_type": "stream",
          "name": "stdout",
          "text": [
            "Average of each column: [2445.067 2482.721 2426.815 2540.516 2518.405 2425.569 2536.843 2444.298\n",
            " 2421.447 2506.542 2419.299 2490.944 2437.867 2526.364 2472.608 2521.935\n",
            " 2456.014 2414.83  2532.561 2611.581]\n",
            "Standard deviation of each column: [1434.31511061 1434.84264892 1443.57894996 1441.39228031 1485.90240358\n",
            " 1415.5108969  1453.86352948 1447.270329   1417.986128   1440.59949335\n",
            " 1438.63757757 1427.07720144 1442.13481038 1456.84028483 1439.47130376\n",
            " 1476.72478776 1447.9619138  1432.55875171 1437.35116248 1446.3002501 ]\n"
          ]
        }
      ],
      "source": [
        "ave_cols = np.mean(X, axis=0)\n",
        "\n",
        "std_cols = np.std(X, axis=0)\n",
        "\n",
        "print(\"Average of each column:\", ave_cols)\n",
        "print(\"Standard deviation of each column:\", std_cols)"
      ]
    },
    {
      "cell_type": "markdown",
      "metadata": {
        "id": "h3Laf5S9yheo"
      },
      "source": [
        "If you have done the above calculations correctly, then `ave_cols` and `std_cols`, should both be vectors with shape `(20,)` since $X$ has 20 columns. You can verify this by filling the code below:"
      ]
    },
    {
      "cell_type": "code",
      "execution_count": 5,
      "metadata": {
        "colab": {
          "base_uri": "https://localhost:8080/"
        },
        "id": "cnzzZF0vyheo",
        "outputId": "80784d5a-0fdd-40d2-c973-ab26b53a468d"
      },
      "outputs": [
        {
          "output_type": "stream",
          "name": "stdout",
          "text": [
            "Shape of ave_cols: (20,)\n",
            "Shape of std_cols: (20,)\n"
          ]
        }
      ],
      "source": [
        "print(\"Shape of ave_cols:\", ave_cols.shape)\n",
        "print(\"Shape of std_cols:\", std_cols.shape)"
      ]
    },
    {
      "cell_type": "markdown",
      "metadata": {
        "id": "Ye3NpM6Gyheo"
      },
      "source": [
        "You can now take advantage of Broadcasting to calculate the mean normalized version of $X$ in just one line of code using the equation above. Fill in the code below"
      ]
    },
    {
      "cell_type": "code",
      "execution_count": 7,
      "metadata": {
        "id": "SFOMrmKByheo"
      },
      "outputs": [],
      "source": [
        "X_norm = (X - ave_cols) / std_cols"
      ]
    },
    {
      "cell_type": "markdown",
      "metadata": {
        "id": "X-uL7wMAyhep"
      },
      "source": [
        "If you have performed the mean normalization correctly, then the average of all the elements in $X_{\\tiny{\\mbox{norm}}}$ should be close to zero, and they should be evenly distributed in some small interval around zero. You can verify this by filing the code below:"
      ]
    },
    {
      "cell_type": "code",
      "execution_count": 8,
      "metadata": {
        "colab": {
          "base_uri": "https://localhost:8080/"
        },
        "id": "xBjOM54eyhep",
        "outputId": "76810770-e26c-4764-f9b7-c6b96c06a80a"
      },
      "outputs": [
        {
          "output_type": "stream",
          "name": "stdout",
          "text": [
            "Average of all values in X_norm: -1.794120407794253e-17\n",
            "Average of minimum values in each column of X_norm: -1.7158602289093192\n",
            "Average of maximum values in each column of X_norm: 1.7426692574077776\n"
          ]
        }
      ],
      "source": [
        "average_X_norm = np.mean(X_norm)\n",
        "print(\"Average of all values in X_norm:\", average_X_norm)\n",
        "\n",
        "average_min_X_norm = np.mean(np.min(X_norm, axis=0))\n",
        "print(\"Average of minimum values in each column of X_norm:\", average_min_X_norm)\n",
        "\n",
        "average_max_X_norm = np.mean(np.max(X_norm, axis=0))\n",
        "print(\"Average of maximum values in each column of X_norm:\", average_max_X_norm)"
      ]
    },
    {
      "cell_type": "markdown",
      "metadata": {
        "id": "iQWTUZMLyhep"
      },
      "source": [
        "You should note that since $X$ was created using random integers, the above values will vary.\n",
        "\n",
        "# Data Separation\n",
        "\n",
        "After the data has been mean normalized, it is customary in machine learnig to split our dataset into three sets:\n",
        "\n",
        "1. A Training Set\n",
        "2. A Cross Validation Set\n",
        "3. A Test Set\n",
        "\n",
        "The dataset is usually divided such that the Training Set contains 60% of the data, the Cross Validation Set contains 20% of the data, and the Test Set contains 20% of the data.\n",
        "\n",
        "In this part of the lab you will separate `X_norm` into a Training Set, Cross Validation Set, and a Test Set. Each data set will contain rows of `X_norm` chosen at random, making sure that we don't pick the same row twice. This will guarantee that all the rows of `X_norm` are chosen and randomly distributed among the three new sets.\n",
        "\n",
        "You will start by creating a rank 1 ndarray that contains a random permutation of the row indices of `X_norm`. You can do this by using the `np.random.permutation()` function. The `np.random.permutation(N)` function creates a random permutation of integers from 0 to `N - 1`. Let's see an example:"
      ]
    },
    {
      "cell_type": "code",
      "execution_count": 9,
      "metadata": {
        "colab": {
          "base_uri": "https://localhost:8080/"
        },
        "id": "_eeHDSUoyhep",
        "outputId": "866a2557-3a63-45b0-ba51-cee07a22cdb0"
      },
      "outputs": [
        {
          "output_type": "execute_result",
          "data": {
            "text/plain": [
              "array([1, 3, 4, 0, 2])"
            ]
          },
          "metadata": {},
          "execution_count": 9
        }
      ],
      "source": [
        "# We create a random permutation of integers 0 to 4\n",
        "np.random.permutation(5)"
      ]
    },
    {
      "cell_type": "markdown",
      "metadata": {
        "id": "x2FjQgH5yhep"
      },
      "source": [
        "# To Do\n",
        "\n",
        "In the space below create a rank 1 ndarray that contains a random permutation of the row indices of `X_norm`. You can do this in one line of code by extracting the number of rows of `X_norm` using the `shape` attribute and then passing it to the  `np.random.permutation()` function. Remember the `shape` attribute returns a tuple with two numbers in the form `(rows,columns)`."
      ]
    },
    {
      "cell_type": "code",
      "execution_count": 10,
      "metadata": {
        "id": "eIeenY8Zyhep"
      },
      "outputs": [],
      "source": [
        "row_indices = np.random.permutation(X_norm.shape[0])"
      ]
    },
    {
      "cell_type": "markdown",
      "metadata": {
        "id": "RMsmzk5Vyhep"
      },
      "source": [
        "Now you can create the three datasets using the `row_indices` ndarray to select the rows that will go into each dataset. Rememeber that the Training Set contains 60% of the data, the Cross Validation Set contains 20% of the data, and the Test Set contains 20% of the data. Each set requires just one line of code to create. Fill in the code below"
      ]
    },
    {
      "cell_type": "code",
      "execution_count": 16,
      "metadata": {
        "id": "qNvaZfk_yhep"
      },
      "outputs": [],
      "source": [
        "train_ratio = 0.6\n",
        "cross_val_ratio = 0.2\n",
        "test_ratio = 0.2\n",
        "\n",
        "num_samples = X_norm.shape[0]\n",
        "num_train = int(num_samples * train_ratio)\n",
        "num_cross_val = int(num_samples * cross_val_ratio)\n",
        "\n",
        "X_train = X_norm[row_indices[:num_train]]\n",
        "\n",
        "X_crossVal = X_norm[row_indices[num_train:num_train + num_cross_val]]\n",
        "\n",
        "X_test = X_norm[row_indices[num_train + num_cross_val:]]"
      ]
    },
    {
      "cell_type": "markdown",
      "metadata": {
        "id": "9TGGt8Eoyheq"
      },
      "source": [
        "If you performed the above calculations correctly, then `X_tain` should have 600 rows and 20 columns, `X_crossVal` should have 200 rows and 20 columns, and `X_test` should have 200 rows and 20 columns. You can verify this by filling the code below:"
      ]
    },
    {
      "cell_type": "code",
      "execution_count": 17,
      "metadata": {
        "colab": {
          "base_uri": "https://localhost:8080/"
        },
        "id": "9Kfs35ZMyheq",
        "outputId": "2929832f-0b78-4d1b-e5e7-e15b72e45de9"
      },
      "outputs": [
        {
          "output_type": "stream",
          "name": "stdout",
          "text": [
            "X_train Shape: (600, 20)\n",
            "X_crossVal Shape: (200, 20)\n",
            "X_test Shape: (200, 20)\n"
          ]
        }
      ],
      "source": [
        "print(\"X_train Shape:\", X_train.shape)\n",
        "\n",
        "print(\"X_crossVal Shape:\", X_crossVal.shape)\n",
        "\n",
        "print(\"X_test Shape:\", X_test.shape)"
      ]
    }
  ],
  "metadata": {
    "kernelspec": {
      "display_name": "Python 3",
      "language": "python",
      "name": "python3"
    },
    "language_info": {
      "codemirror_mode": {
        "name": "ipython",
        "version": 3
      },
      "file_extension": ".py",
      "mimetype": "text/x-python",
      "name": "python",
      "nbconvert_exporter": "python",
      "pygments_lexer": "ipython3",
      "version": "3.6.4"
    },
    "colab": {
      "provenance": []
    }
  },
  "nbformat": 4,
  "nbformat_minor": 0
}
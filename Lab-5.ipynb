{
  "nbformat": 4,
  "nbformat_minor": 0,
  "metadata": {
    "colab": {
      "provenance": [],
      "authorship_tag": "ABX9TyMH8Wnht3dOx+jvfgyNqgll"
    },
    "kernelspec": {
      "name": "python3",
      "display_name": "Python 3"
    },
    "language_info": {
      "name": "python"
    }
  },
  "cells": [
    {
      "cell_type": "code",
      "execution_count": 1,
      "metadata": {
        "colab": {
          "base_uri": "https://localhost:8080/"
        },
        "id": "Ocfz3kUN2epa",
        "outputId": "e1316ad7-cf90-40bf-b5a0-39f5af5f93b2"
      },
      "outputs": [
        {
          "output_type": "stream",
          "name": "stdout",
          "text": [
            "Distance from Sun:\n",
            "Earth       149.6\n",
            "Saturn     1433.5\n",
            "Mars        227.9\n",
            "Venus       108.2\n",
            "Jupiter     778.6\n",
            "dtype: float64\n",
            "\n",
            "Time for light to reach each planet (minutes):\n",
            "Earth      0.000008\n",
            "Saturn     0.000080\n",
            "Mars       0.000013\n",
            "Venus      0.000006\n",
            "Jupiter    0.000043\n",
            "dtype: float64\n",
            "\n",
            "Close planets (light takes less than 40 minutes to reach them):\n",
            "Earth       149.6\n",
            "Saturn     1433.5\n",
            "Mars        227.9\n",
            "Venus       108.2\n",
            "Jupiter     778.6\n",
            "dtype: float64\n"
          ]
        }
      ],
      "source": [
        "#Task 1\n",
        "import pandas as pd\n",
        "\n",
        "distance_from_sun = [149.6, 1433.5, 227.9, 108.2, 778.6]\n",
        "planets = ['Earth', 'Saturn', 'Mars', 'Venus', 'Jupiter']\n",
        "\n",
        "dist_planets = pd.Series(distance_from_sun, index=planets)\n",
        "\n",
        "speed_of_light = 18 * 10**6\n",
        "time_light = dist_planets / speed_of_light\n",
        "\n",
        "close_planets = dist_planets[time_light < 40]\n",
        "\n",
        "print(\"Distance from Sun:\")\n",
        "print(dist_planets)\n",
        "print(\"\\nTime for light to reach each planet (minutes):\")\n",
        "print(time_light)\n",
        "print(\"\\nClose planets (light takes less than 40 minutes to reach them):\")\n",
        "print(close_planets)"
      ]
    },
    {
      "cell_type": "code",
      "source": [
        "#Task 2\n",
        "import pandas as pd\n",
        "import numpy as np\n",
        "\n",
        "books = pd.Series(data=['Great Expectations', 'Of Mice and Men', 'Romeo and Juliet', 'The Time Machine', 'Alice in Wonderland'])\n",
        "authors = pd.Series(data=['Charles Dickens', 'John Steinbeck', 'William Shakespeare', 'H. G. Wells', 'Lewis Carroll'])\n",
        "user_1 = pd.Series(data=[3.2, np.nan, 2.5])\n",
        "user_2 = pd.Series(data=[5.0, 1.3, 4.0, 3.8])\n",
        "user_3 = pd.Series(data=[2.0, 2.3, np.nan, 4.0])\n",
        "user_4 = pd.Series(data=[4.0, 3.5, 4.0, 5.0, 4.2])\n",
        "\n",
        "dat = {\n",
        "    'Book Title': books,\n",
        "    'Author': authors,\n",
        "    'User 1': user_1,\n",
        "    'User 2': user_2,\n",
        "    'User 3': user_3,\n",
        "    'User 4': user_4\n",
        "}\n",
        "\n",
        "book_ratings = pd.DataFrame(dat)\n",
        "\n",
        "average_ratings = book_ratings.select_dtypes(include=[np.number]).mean()\n",
        "\n",
        "book_ratings.fillna(average_ratings, inplace=True)\n",
        "\n",
        "print(book_ratings)"
      ],
      "metadata": {
        "colab": {
          "base_uri": "https://localhost:8080/"
        },
        "id": "zNOonj5p3BZM",
        "outputId": "7172fbe6-64c0-4b2c-9cbf-8e5b1db87f55"
      },
      "execution_count": 5,
      "outputs": [
        {
          "output_type": "stream",
          "name": "stdout",
          "text": [
            "            Book Title               Author  User 1  User 2  User 3  User 4\n",
            "0   Great Expectations      Charles Dickens     3.2     5.0     2.0     4.0\n",
            "1      Of Mice and Men       John Steinbeck     2.9     1.3     2.3     3.5\n",
            "2     Romeo and Juliet  William Shakespeare     2.5     4.0     2.8     4.0\n",
            "3     The Time Machine          H. G. Wells     2.9     3.8     4.0     5.0\n",
            "4  Alice in Wonderland        Lewis Carroll     2.9     3.5     2.8     4.2\n"
          ]
        }
      ]
    },
    {
      "cell_type": "code",
      "source": [],
      "metadata": {
        "id": "oUqn9tsM4jkC"
      },
      "execution_count": null,
      "outputs": []
    }
  ]
}
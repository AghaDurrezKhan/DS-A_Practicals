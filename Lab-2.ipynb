{
  "nbformat": 4,
  "nbformat_minor": 0,
  "metadata": {
    "colab": {
      "provenance": []
    },
    "kernelspec": {
      "name": "python3",
      "display_name": "Python 3"
    },
    "language_info": {
      "name": "python"
    }
  },
  "cells": [
    {
      "cell_type": "code",
      "execution_count": null,
      "metadata": {
        "colab": {
          "base_uri": "https://localhost:8080/"
        },
        "id": "FL5c7d8Cyvry",
        "outputId": "75e92972-6bc4-41b4-82f8-d6fc21d6d0d5"
      },
      "outputs": [
        {
          "output_type": "stream",
          "name": "stdout",
          "text": [
            "Enter your points: 60\n",
            "Your Prize Is: No Prize\n"
          ]
        }
      ],
      "source": [
        "#Task 1\n",
        "\n",
        "points = 0\n",
        "prize_name = \"\"\n",
        "\n",
        "points = int(input(\"Enter your points: \"))\n",
        "\n",
        "if points > 1 and points <= 50:\n",
        "  prize_name = \"Wooden Rabbit\"\n",
        "elif points > 51 and points <= 150:\n",
        "  prize_name = \"No Prize\"\n",
        "elif points > 151 and points <= 180:\n",
        "  prize_name = \"Water-Thin Mint\"\n",
        "elif points > 181 and points <= 200:\n",
        "  prize_name = \"Penguin\"\n",
        "\n",
        "print(\"Your Prize Is:\", prize_name)"
      ]
    },
    {
      "cell_type": "code",
      "source": [
        "#Task 2\n",
        "\n",
        "answer = 42\n",
        "guess = int(input(\"Guess a number: \"))\n",
        "\n",
        "if guess < answer:\n",
        "    result = \"Oops! Your guess was too low.\"\n",
        "elif guess > answer:\n",
        "    result = \"Oops! Your guess was too high.\"\n",
        "else:\n",
        "    result = \"Nice! Your guess matched the answer!\"\n",
        "print(result)"
      ],
      "metadata": {
        "colab": {
          "base_uri": "https://localhost:8080/"
        },
        "id": "Wibwu19_3c-8",
        "outputId": "230591e7-8604-4505-e6b8-5f7e2b0ef42c"
      },
      "execution_count": null,
      "outputs": [
        {
          "output_type": "stream",
          "name": "stdout",
          "text": [
            "Guess a number: 50\n",
            "Oops! Your guess was too high.\n"
          ]
        }
      ]
    },
    {
      "cell_type": "code",
      "source": [
        "#Task 3\n",
        "\n",
        "def calculate_tax(amount, state):\n",
        "    tax_rates = {'CA': 0.075, 'MN': 0.095, 'NY': 0.089}\n",
        "\n",
        "    if state in tax_rates:\n",
        "        tax_rate = tax_rates[state]\n",
        "        tax_amount = amount * tax_rate\n",
        "        total_amount = amount + tax_amount\n",
        "        return total_amount\n",
        "    else:\n",
        "        print(\"Invalid state entered.\")\n",
        "        return amount\n",
        "\n",
        "purchase_amount = float(input(\"Enter the purchase amount: \"))\n",
        "state = input(\"Enter the state (CA, MN, or NY): \")\n",
        "\n",
        "total_amount_with_tax = calculate_tax(purchase_amount, state)\n",
        "print(f\"Total amount with tax: ${total_amount_with_tax:.2f}\")"
      ],
      "metadata": {
        "id": "E2Swz2nc5aSR",
        "colab": {
          "base_uri": "https://localhost:8080/"
        },
        "outputId": "6d2c90c9-98ca-41b7-925d-9503f03bd8c5"
      },
      "execution_count": null,
      "outputs": [
        {
          "output_type": "stream",
          "name": "stdout",
          "text": [
            "Enter the purchase amount: 67\n",
            "Enter the state (CA, MN, or NY): NY\n",
            "Total amount with tax: $72.96\n"
          ]
        }
      ]
    },
    {
      "cell_type": "code",
      "source": [
        "#Task 4\n",
        "\n",
        "sentence = [\"the\", \"quick\", \"brown\", \"fox\", \"jumped\", \"over\", \"the\", \"lazy\", \"dog\"]\n",
        "\n",
        "for word in sentence:\n",
        "    print(word)"
      ],
      "metadata": {
        "id": "UgGlo7ZU5vxl",
        "colab": {
          "base_uri": "https://localhost:8080/"
        },
        "outputId": "ad98eee2-0665-4884-cded-d54253f4ca90"
      },
      "execution_count": null,
      "outputs": [
        {
          "output_type": "stream",
          "name": "stdout",
          "text": [
            "the\n",
            "quick\n",
            "brown\n",
            "fox\n",
            "jumped\n",
            "over\n",
            "the\n",
            "lazy\n",
            "dog\n"
          ]
        }
      ]
    },
    {
      "cell_type": "code",
      "source": [
        "#Task 5\n",
        "\n",
        "for num in range(5, 31, 5):\n",
        "    print(num, end=' ')"
      ],
      "metadata": {
        "id": "pCFSxOgN6e4B",
        "colab": {
          "base_uri": "https://localhost:8080/"
        },
        "outputId": "46e81ded-03a9-445f-8b37-329adefd26f1"
      },
      "execution_count": null,
      "outputs": [
        {
          "output_type": "stream",
          "name": "stdout",
          "text": [
            "5 10 15 20 25 30 "
          ]
        }
      ]
    },
    {
      "cell_type": "code",
      "source": [
        "#Task 6\n",
        "\n",
        " = [\"Rick Sanchez\", \"Morty Smith\", \"Summer Smith\", \"Jerry Smith\", \"Beth Smith\"]\n",
        "first_names = [name.split()[0].lower() for name in names]\n",
        "print(first_names)"
      ],
      "metadata": {
        "colab": {
          "base_uri": "https://localhost:8080/"
        },
        "id": "5GuOkdDd9YAR",
        "outputId": "d37593bb-98eb-4a86-ff51-a53c9c70b2cd"
      },
      "execution_count": null,
      "outputs": [
        {
          "output_type": "stream",
          "name": "stdout",
          "text": [
            "['rick', 'morty', 'summer', 'jerry', 'beth']\n"
          ]
        }
      ]
    },
    {
      "cell_type": "code",
      "source": [
        "#Task 7\n",
        "\n",
        "multiples_3 = [i * 3 for i in range(1, 21)]\n",
        "print(multiples_3)"
      ],
      "metadata": {
        "colab": {
          "base_uri": "https://localhost:8080/"
        },
        "id": "3SHgL4oc9b6p",
        "outputId": "db5a1ec0-ae70-44ba-97f3-d45675867c8c"
      },
      "execution_count": null,
      "outputs": [
        {
          "output_type": "stream",
          "name": "stdout",
          "text": [
            "[3, 6, 9, 12, 15, 18, 21, 24, 27, 30, 33, 36, 39, 42, 45, 48, 51, 54, 57, 60]\n"
          ]
        }
      ]
    },
    {
      "cell_type": "code",
      "source": [
        "#Task 8\n",
        "\n",
        "scores = {\n",
        "    \"Rick Sanchez\": 70,\n",
        "    \"Morty Smith\": 35,\n",
        "    \"Summer Smith\": 82,\n",
        "    \"Jerry Smith\": 23,\n",
        "    \"Beth Smith\": 98\n",
        "}\n",
        "\n",
        "passed = [name for name, score in scores.items() if score >= 65]\n",
        "print(passed)"
      ],
      "metadata": {
        "colab": {
          "base_uri": "https://localhost:8080/"
        },
        "id": "dhABgcS89mbW",
        "outputId": "3e717452-9c38-49c7-871b-6f48ce12ceb6"
      },
      "execution_count": null,
      "outputs": [
        {
          "output_type": "stream",
          "name": "stdout",
          "text": [
            "['Rick Sanchez', 'Summer Smith', 'Beth Smith']\n"
          ]
        }
      ]
    },
    {
      "cell_type": "code",
      "source": [
        "#Task 9\n",
        "\n",
        "cast_names = [\"Barney\", \"Robin\", \"Ted\", \"Lily\", \"Marshall\"]\n",
        "cast_heights = [72, 68, 72, 66, 76]\n",
        "cast = dict(zip(cast_names, cast_heights))\n",
        "print(cast)"
      ],
      "metadata": {
        "colab": {
          "base_uri": "https://localhost:8080/"
        },
        "id": "gRXZl6Ej97vl",
        "outputId": "4611e384-9ddd-4aee-964b-813a251ba3c8"
      },
      "execution_count": null,
      "outputs": [
        {
          "output_type": "stream",
          "name": "stdout",
          "text": [
            "{'Barney': 72, 'Robin': 68, 'Ted': 72, 'Lily': 66, 'Marshall': 76}\n"
          ]
        }
      ]
    },
    {
      "cell_type": "code",
      "source": [
        "#Task 10\n",
        "\n",
        "cast = [\"Barney Stinson\", \"Robin Scherbatsky\", \"Ted Mosby\", \"Lily Aldrin\", \"Marshall Eriksen\"]\n",
        "heights = [72, 68, 72, 66, 76]\n",
        "\n",
        "for i, name in enumerate(cast):\n",
        "    cast[i] = f\"{name} {heights[i]}\"\n",
        "\n",
        "print(cast)"
      ],
      "metadata": {
        "colab": {
          "base_uri": "https://localhost:8080/"
        },
        "id": "Y004zK7v-aFt",
        "outputId": "818cbbee-6187-4b16-b1c2-db92facf6311"
      },
      "execution_count": null,
      "outputs": [
        {
          "output_type": "stream",
          "name": "stdout",
          "text": [
            "['Barney Stinson 72', 'Robin Scherbatsky 68', 'Ted Mosby 72', 'Lily Aldrin 66', 'Marshall Eriksen 76']\n"
          ]
        }
      ]
    },
    {
      "cell_type": "markdown",
      "source": [],
      "metadata": {
        "id": "vtGcKRzG6AMY"
      }
    }
  ]
}
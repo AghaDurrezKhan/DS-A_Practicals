{
  "nbformat": 4,
  "nbformat_minor": 0,
  "metadata": {
    "colab": {
      "provenance": []
    },
    "kernelspec": {
      "name": "python3",
      "display_name": "Python 3"
    },
    "language_info": {
      "name": "python"
    }
  },
  "cells": [
    {
      "cell_type": "code",
      "execution_count": 1,
      "metadata": {
        "colab": {
          "base_uri": "https://localhost:8080/"
        },
        "id": "gtewlAH6gpAG",
        "outputId": "fa1e2ad9-d90c-4578-be3a-f3534165114e"
      },
      "outputs": [
        {
          "output_type": "stream",
          "name": "stdout",
          "text": [
            "Durrez is Refined and Sociable\n"
          ]
        }
      ],
      "source": [
        "#Task 1\n",
        "\n",
        "message= \"Durrez is {} and {}\";\n",
        "\n",
        "print(message.format(\"Refined\", \"Sociable\"))"
      ]
    },
    {
      "cell_type": "code",
      "source": [
        "#Task 2\n",
        "\n",
        "str = \"Durrez\"\n",
        "\n",
        "print(str.capitalize())\n",
        "print(str.casefold())\n",
        "print(str.count(\"s\", 0, len(str)))\n",
        "\n"
      ],
      "metadata": {
        "colab": {
          "base_uri": "https://localhost:8080/"
        },
        "id": "5FqciEWVyxt0",
        "outputId": "103f7a4d-d5f8-427e-b87c-032ccb325f23"
      },
      "execution_count": null,
      "outputs": [
        {
          "output_type": "stream",
          "name": "stdout",
          "text": [
            "Durrez\n",
            "durrez\n",
            "0\n"
          ]
        }
      ]
    },
    {
      "cell_type": "code",
      "source": [
        "#Task 3\n",
        "\n",
        "month = 8\n",
        "\n",
        "days_in_month = [31,28,31,30,31,30,31,31,30,31,30,31]\n",
        "num_days = days_in_month[month - 1]\n",
        "\n",
        "print(\"month\", month ,\"contains\", num_days , \"days\")\n"
      ],
      "metadata": {
        "colab": {
          "base_uri": "https://localhost:8080/"
        },
        "id": "CrP_D53uq_G4",
        "outputId": "6bafae7d-a4e9-4451-d0f0-2e3e7c0f4cab"
      },
      "execution_count": null,
      "outputs": [
        {
          "output_type": "stream",
          "name": "stdout",
          "text": [
            "month 8 contains 31 days\n"
          ]
        }
      ]
    },
    {
      "cell_type": "code",
      "source": [
        "#Task 4\n",
        "\n",
        "eclipse_dates = ['June 21, 2001', 'December 4, 2002', 'November 23, 2003', 'March 29, 2006', 'August 1, 2008', 'July 22, 2009', 'July 11, 2010', 'November 13, 2012', 'March 20, 2015', 'March 9, 2016']\n",
        "recent_dates = eclipse_dates[-3:]\n",
        "\n",
        "print(recent_dates)\n"
      ],
      "metadata": {
        "colab": {
          "base_uri": "https://localhost:8080/"
        },
        "id": "l3BOF1RYvbdB",
        "outputId": "3d394ea9-d58f-479e-9e83-f76672959973"
      },
      "execution_count": null,
      "outputs": [
        {
          "output_type": "stream",
          "name": "stdout",
          "text": [
            "['November 13, 2012', 'March 20, 2015', 'March 9, 2016']\n"
          ]
        }
      ]
    },
    {
      "cell_type": "code",
      "source": [
        "#Task 5\n",
        "\n",
        "students = {\n",
        "    \"Durrez\": {\n",
        "        \"age\": 21,\n",
        "        \"semester\": \"6th\",\n",
        "        \"subjects\": [\"DS&A\", \"DS\", \"MAD\"],\n",
        "        \"address\": {\n",
        "            \"street\": \"*******\",\n",
        "            \"city\": \"Hyderabad\",\n",
        "            \"state\": \"Sindh\",\n",
        "            \"zip\": \"*****\"\n",
        "        }\n",
        "    },\n",
        "    \"Ghansham\": {\n",
        "        \"age\": 20,\n",
        "        \"semester\": \"6th\",\n",
        "        \"subjects\": [\"DWH\", \"IS\", \"CPS\"],\n",
        "        \"address\": {\n",
        "            \"street\": \"********\",\n",
        "            \"city\": \"Mithi\",\n",
        "            \"state\": \"Sindh\",\n",
        "            \"zip\": \"*****\"\n",
        "        }\n",
        "    },\n",
        "}\n",
        "\n",
        "students[\"Durrez\"][\"semester\"],\n",
        "print(\"Durrez\")\n",
        "print(students)"
      ],
      "metadata": {
        "colab": {
          "base_uri": "https://localhost:8080/"
        },
        "id": "RAt5rtZUwLGW",
        "outputId": "2ee3e5ab-605e-4695-adb8-a76db02d7e43"
      },
      "execution_count": null,
      "outputs": [
        {
          "output_type": "stream",
          "name": "stdout",
          "text": [
            "Durrez\n",
            "{'Durrez': {'age': 21, 'semester': '6th', 'subjects': ['DS&A', 'DS', 'MAD'], 'address': {'street': '1 Main St', 'city': 'Hyderabad', 'state': 'Sindh', 'zip': '69230'}}, 'Ghansham': {'age': 20, 'semester': '6th', 'subjects': ['DWH', 'IS', 'CPS'], 'address': {'street': '4 B St', 'city': 'Thatta', 'state': 'Sindh', 'zip': '852963'}}}\n"
          ]
        }
      ]
    }
  ]
}